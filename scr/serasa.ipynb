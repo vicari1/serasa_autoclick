{
 "cells": [
  {
   "cell_type": "code",
   "execution_count": 5,
   "metadata": {},
   "outputs": [],
   "source": [
    "#import libraries + password\n",
    "from selenium import webdriver\n",
    "from webdriver_manager.chrome import ChromeDriverManager\n",
    "from selenium.webdriver.chrome.service import Service\n",
    "from selenium.webdriver.common.keys import Keys\n",
    "from selenium.webdriver.common.by import By\n",
    "from pydrive.auth import GoogleAuth\n",
    "from pydrive.drive import GoogleDrive\n",
    "import time\n",
    "\n",
    "\n",
    "#Password notebook\n",
    "%run password.ipynb\n",
    "\n",
    "#Create a service to work with a updated version of Chrome\n",
    "servico = Service(ChromeDriverManager().install())\n",
    "\n",
    "#Define Chrome as a main brownser\n",
    "navegador = webdriver.Chrome(service=servico)"
   ]
  },
  {
   "cell_type": "code",
   "execution_count": 6,
   "metadata": {},
   "outputs": [],
   "source": [
    "#Open site 01\n",
    "navegador.get(\"https://www.serasa.com.br/parceiros\")"
   ]
  },
  {
   "cell_type": "code",
   "execution_count": 7,
   "metadata": {},
   "outputs": [],
   "source": [
    "#Login and password\n",
    "campo_login = navegador.find_element(By.XPATH, '/html/body/div[1]/main/section/form/section[1]/div/input')\n",
    "campo_login.send_keys(login)\n",
    "\n",
    "senha = navegador.find_element(By.XPATH, '/html/body/div[1]/main/section/form/section[2]/div/input')\n",
    "senha.send_keys(password)\n",
    "\n",
    "senha.send_keys(Keys.ENTER)"
   ]
  },
  {
   "cell_type": "code",
   "execution_count": 8,
   "metadata": {},
   "outputs": [],
   "source": [
    "#gauth = GoogleAuth()\n",
    "#gauth.LocalWebserverAuth()\n",
    "#drive = GoogleDrive(gauth)"
   ]
  },
  {
   "cell_type": "code",
   "execution_count": 9,
   "metadata": {},
   "outputs": [
    {
     "ename": "SyntaxError",
     "evalue": "(unicode error) 'unicodeescape' codec can't decode bytes in position 2-3: truncated \\UXXXXXXXX escape (4129497402.py, line 1)",
     "output_type": "error",
     "traceback": [
      "\u001b[1;36m  Cell \u001b[1;32mIn[9], line 1\u001b[1;36m\u001b[0m\n\u001b[1;33m    local_file_path = 'C:\\Users\\bagat\\Downloads\\example-countries-pt.csv'\u001b[0m\n\u001b[1;37m                                                                         ^\u001b[0m\n\u001b[1;31mSyntaxError\u001b[0m\u001b[1;31m:\u001b[0m (unicode error) 'unicodeescape' codec can't decode bytes in position 2-3: truncated \\UXXXXXXXX escape\n"
     ]
    }
   ],
   "source": [
    "\n",
    "local_file_path = 'C:\\Users\\bagat\\Downloads\\example-countries-pt.csv'\n",
    "drive_file_name = 'pagamento_lno.csv'\n",
    "\n",
    "file_list = drive.ListFile({'q': f\"title='pagamento_lno.csv'\"})\n",
    "for file in file_list: \n",
    "    file.Delete()\n",
    "\n",
    "file_drive = drive.CreateFile({'pagamento_lno.csv': drive_file_name})\n",
    "file_drive.Upload()\n",
    "file_drive.SetContentFile(local_file_path)\n",
    "file_drive.Upload()"
   ]
  }
 ],
 "metadata": {
  "kernelspec": {
   "display_name": "base",
   "language": "python",
   "name": "python3"
  },
  "language_info": {
   "codemirror_mode": {
    "name": "ipython",
    "version": 3
   },
   "file_extension": ".py",
   "mimetype": "text/x-python",
   "name": "python",
   "nbconvert_exporter": "python",
   "pygments_lexer": "ipython3",
   "version": "3.10.9"
  },
  "orig_nbformat": 4
 },
 "nbformat": 4,
 "nbformat_minor": 2
}
